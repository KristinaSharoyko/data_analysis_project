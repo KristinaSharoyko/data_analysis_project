{
 "cells": [
  {
   "cell_type": "markdown",
   "metadata": {},
   "source": [
    "# Анализ покупок и пользователей e-commerce\n",
    "\n",
    "Онлайн магазин хочет проанализировать совершенные покупки и пользователей, оценить эффективность рекламной кампании и определить способы маркетинговых коммуникаций для разных сегментов покупателей.\n",
    "\n",
    "**Задача.** Изучить данные и определить количество пользователей, которые совершили покупку только один раз, вывести детализацию причин по недоставленным заказам, определить среднее количество покупок в неделю для каждого пользователя, провести когортный анализ и RFM-сегментацию.\n",
    "\n",
    "**Описание данных**\\\n",
    "customer_id — позаказный идентификатор пользователя\\\n",
    "customer_unique_id —  уникальный идентификатор пользователя  (аналог номера паспорта)\\\n",
    "customer_zip_code_prefix —  почтовый индекс пользователя\\\n",
    "customer_city —  город доставки пользователя\\\n",
    "customer_state —  штат доставки пользователя\n",
    "\n",
    "order_id —  уникальный идентификатор заказа (номер чека)\\\n",
    "customer_id —  позаказный идентификатор пользователя\\\n",
    "order_status —  статус заказа\\\n",
    "order_purchase_timestamp —  время создания заказа\\\n",
    "order_approved_at —  время подтверждения оплаты заказа\\\n",
    "order_delivered_carrier_date —  время передачи заказа в логистическую службу\\\n",
    "order_delivered_customer_date —  время доставки заказа\\\n",
    "order_estimated_delivery_date —  обещанная дата доставки\n",
    "\n",
    "created —  создан\\\n",
    "approved —  подтверждён\\\n",
    "invoiced —  выставлен счёт\\\n",
    "processing —  в процессе сборки заказа\\\n",
    "shipped —  отгружен со склада\\\n",
    "delivered —  доставлен пользователю\\\n",
    "unavailable —  недоступен\\\n",
    "canceled —  отменён\n",
    "\n",
    "order_id —  уникальный идентификатор заказа (номер чека)\\\n",
    "order_item_id —  идентификатор товара внутри одного заказа\\\n",
    "product_id —  ид товара (аналог штрихкода)\\\n",
    "seller_id — ид производителя товара\\\n",
    "shipping_limit_date —  максимальная дата доставки продавцом для передачи заказа партнеру по логистике\\\n",
    "price —  цена за единицу товара\\\n",
    "freight_value —  вес товара"
   ]
  },
  {
   "cell_type": "code",
   "execution_count": 299,
   "metadata": {},
   "outputs": [],
   "source": [
    "import pandas as pd\n",
    "import datetime as dt\n",
    "from datetime import timedelta\n",
    "import dateutil.relativedelta as relativedelta\n",
    "from calendar import monthrange\n",
    "import calendar\n",
    "import numpy as np\n",
    "import matplotlib.pyplot as plt\n",
    "import matplotlib as mpl\n",
    "from operator import attrgetter\n",
    "import seaborn as sns\n",
    "import matplotlib.colors as mcolors"
   ]
  },
  {
   "cell_type": "markdown",
   "metadata": {},
   "source": [
    "### Обзор данных"
   ]
  },
  {
   "cell_type": "code",
   "execution_count": 300,
   "metadata": {},
   "outputs": [
    {
     "data": {
      "text/html": [
       "<div>\n",
       "<style scoped>\n",
       "    .dataframe tbody tr th:only-of-type {\n",
       "        vertical-align: middle;\n",
       "    }\n",
       "\n",
       "    .dataframe tbody tr th {\n",
       "        vertical-align: top;\n",
       "    }\n",
       "\n",
       "    .dataframe thead th {\n",
       "        text-align: right;\n",
       "    }\n",
       "</style>\n",
       "<table border=\"1\" class=\"dataframe\">\n",
       "  <thead>\n",
       "    <tr style=\"text-align: right;\">\n",
       "      <th></th>\n",
       "      <th>customer_id</th>\n",
       "      <th>customer_unique_id</th>\n",
       "      <th>customer_zip_code_prefix</th>\n",
       "      <th>customer_city</th>\n",
       "      <th>customer_state</th>\n",
       "    </tr>\n",
       "  </thead>\n",
       "  <tbody>\n",
       "    <tr>\n",
       "      <th>0</th>\n",
       "      <td>06b8999e2fba1a1fbc88172c00ba8bc7</td>\n",
       "      <td>861eff4711a542e4b93843c6dd7febb0</td>\n",
       "      <td>14409</td>\n",
       "      <td>franca</td>\n",
       "      <td>SP</td>\n",
       "    </tr>\n",
       "    <tr>\n",
       "      <th>1</th>\n",
       "      <td>18955e83d337fd6b2def6b18a428ac77</td>\n",
       "      <td>290c77bc529b7ac935b93aa66c333dc3</td>\n",
       "      <td>9790</td>\n",
       "      <td>sao bernardo do campo</td>\n",
       "      <td>SP</td>\n",
       "    </tr>\n",
       "    <tr>\n",
       "      <th>2</th>\n",
       "      <td>4e7b3e00288586ebd08712fdd0374a03</td>\n",
       "      <td>060e732b5b29e8181a18229c7b0b2b5e</td>\n",
       "      <td>1151</td>\n",
       "      <td>sao paulo</td>\n",
       "      <td>SP</td>\n",
       "    </tr>\n",
       "  </tbody>\n",
       "</table>\n",
       "</div>"
      ],
      "text/plain": [
       "                        customer_id                customer_unique_id  \\\n",
       "0  06b8999e2fba1a1fbc88172c00ba8bc7  861eff4711a542e4b93843c6dd7febb0   \n",
       "1  18955e83d337fd6b2def6b18a428ac77  290c77bc529b7ac935b93aa66c333dc3   \n",
       "2  4e7b3e00288586ebd08712fdd0374a03  060e732b5b29e8181a18229c7b0b2b5e   \n",
       "\n",
       "   customer_zip_code_prefix          customer_city customer_state  \n",
       "0                     14409                 franca             SP  \n",
       "1                      9790  sao bernardo do campo             SP  \n",
       "2                      1151              sao paulo             SP  "
      ]
     },
     "execution_count": 300,
     "metadata": {},
     "output_type": "execute_result"
    }
   ],
   "source": [
    "customers = pd.read_csv('/Users/kristinasharoyko/Documents/data_for/archive/olist_customers_dataset.csv')\n",
    "customers.head(3)"
   ]
  },
  {
   "cell_type": "code",
   "execution_count": 301,
   "metadata": {},
   "outputs": [
    {
     "data": {
      "text/plain": [
       "(99441, 5)"
      ]
     },
     "execution_count": 301,
     "metadata": {},
     "output_type": "execute_result"
    }
   ],
   "source": [
    "customers.shape"
   ]
  },
  {
   "cell_type": "code",
   "execution_count": 302,
   "metadata": {},
   "outputs": [
    {
     "data": {
      "text/plain": [
       "customer_id                 object\n",
       "customer_unique_id          object\n",
       "customer_zip_code_prefix     int64\n",
       "customer_city               object\n",
       "customer_state              object\n",
       "dtype: object"
      ]
     },
     "execution_count": 302,
     "metadata": {},
     "output_type": "execute_result"
    }
   ],
   "source": [
    "customers.dtypes"
   ]
  },
  {
   "cell_type": "code",
   "execution_count": 303,
   "metadata": {
    "scrolled": false
   },
   "outputs": [
    {
     "data": {
      "text/html": [
       "<div>\n",
       "<style scoped>\n",
       "    .dataframe tbody tr th:only-of-type {\n",
       "        vertical-align: middle;\n",
       "    }\n",
       "\n",
       "    .dataframe tbody tr th {\n",
       "        vertical-align: top;\n",
       "    }\n",
       "\n",
       "    .dataframe thead th {\n",
       "        text-align: right;\n",
       "    }\n",
       "</style>\n",
       "<table border=\"1\" class=\"dataframe\">\n",
       "  <thead>\n",
       "    <tr style=\"text-align: right;\">\n",
       "      <th></th>\n",
       "      <th>order_id</th>\n",
       "      <th>customer_id</th>\n",
       "      <th>order_status</th>\n",
       "      <th>order_purchase_timestamp</th>\n",
       "      <th>order_approved_at</th>\n",
       "      <th>order_delivered_carrier_date</th>\n",
       "      <th>order_delivered_customer_date</th>\n",
       "      <th>order_estimated_delivery_date</th>\n",
       "    </tr>\n",
       "  </thead>\n",
       "  <tbody>\n",
       "    <tr>\n",
       "      <th>0</th>\n",
       "      <td>e481f51cbdc54678b7cc49136f2d6af7</td>\n",
       "      <td>9ef432eb6251297304e76186b10a928d</td>\n",
       "      <td>delivered</td>\n",
       "      <td>2017-10-02 10:56:33</td>\n",
       "      <td>2017-10-02 11:07:15</td>\n",
       "      <td>2017-10-04 19:55:00</td>\n",
       "      <td>2017-10-10 21:25:13</td>\n",
       "      <td>2017-10-18</td>\n",
       "    </tr>\n",
       "    <tr>\n",
       "      <th>1</th>\n",
       "      <td>53cdb2fc8bc7dce0b6741e2150273451</td>\n",
       "      <td>b0830fb4747a6c6d20dea0b8c802d7ef</td>\n",
       "      <td>delivered</td>\n",
       "      <td>2018-07-24 20:41:37</td>\n",
       "      <td>2018-07-26 03:24:27</td>\n",
       "      <td>2018-07-26 14:31:00</td>\n",
       "      <td>2018-08-07 15:27:45</td>\n",
       "      <td>2018-08-13</td>\n",
       "    </tr>\n",
       "    <tr>\n",
       "      <th>2</th>\n",
       "      <td>47770eb9100c2d0c44946d9cf07ec65d</td>\n",
       "      <td>41ce2a54c0b03bf3443c3d931a367089</td>\n",
       "      <td>delivered</td>\n",
       "      <td>2018-08-08 08:38:49</td>\n",
       "      <td>2018-08-08 08:55:23</td>\n",
       "      <td>2018-08-08 13:50:00</td>\n",
       "      <td>2018-08-17 18:06:29</td>\n",
       "      <td>2018-09-04</td>\n",
       "    </tr>\n",
       "  </tbody>\n",
       "</table>\n",
       "</div>"
      ],
      "text/plain": [
       "                           order_id                       customer_id  \\\n",
       "0  e481f51cbdc54678b7cc49136f2d6af7  9ef432eb6251297304e76186b10a928d   \n",
       "1  53cdb2fc8bc7dce0b6741e2150273451  b0830fb4747a6c6d20dea0b8c802d7ef   \n",
       "2  47770eb9100c2d0c44946d9cf07ec65d  41ce2a54c0b03bf3443c3d931a367089   \n",
       "\n",
       "  order_status order_purchase_timestamp   order_approved_at  \\\n",
       "0    delivered      2017-10-02 10:56:33 2017-10-02 11:07:15   \n",
       "1    delivered      2018-07-24 20:41:37 2018-07-26 03:24:27   \n",
       "2    delivered      2018-08-08 08:38:49 2018-08-08 08:55:23   \n",
       "\n",
       "  order_delivered_carrier_date order_delivered_customer_date  \\\n",
       "0          2017-10-04 19:55:00           2017-10-10 21:25:13   \n",
       "1          2018-07-26 14:31:00           2018-08-07 15:27:45   \n",
       "2          2018-08-08 13:50:00           2018-08-17 18:06:29   \n",
       "\n",
       "  order_estimated_delivery_date  \n",
       "0                    2017-10-18  \n",
       "1                    2018-08-13  \n",
       "2                    2018-09-04  "
      ]
     },
     "execution_count": 303,
     "metadata": {},
     "output_type": "execute_result"
    }
   ],
   "source": [
    "orders = pd.read_csv('/Users/kristinasharoyko/Documents/data_for/archive/olist_orders_dataset.csv', \\\n",
    "                     parse_dates = ['order_purchase_timestamp', 'order_approved_at', 'order_delivered_carrier_date',\n",
    "                                    'order_delivered_customer_date', 'order_estimated_delivery_date'])\n",
    "orders.head(3)"
   ]
  },
  {
   "cell_type": "code",
   "execution_count": 304,
   "metadata": {},
   "outputs": [
    {
     "data": {
      "text/plain": [
       "(99441, 8)"
      ]
     },
     "execution_count": 304,
     "metadata": {},
     "output_type": "execute_result"
    }
   ],
   "source": [
    "orders.shape"
   ]
  },
  {
   "cell_type": "code",
   "execution_count": 305,
   "metadata": {},
   "outputs": [
    {
     "data": {
      "text/plain": [
       "order_id                                 object\n",
       "customer_id                              object\n",
       "order_status                             object\n",
       "order_purchase_timestamp         datetime64[ns]\n",
       "order_approved_at                datetime64[ns]\n",
       "order_delivered_carrier_date     datetime64[ns]\n",
       "order_delivered_customer_date    datetime64[ns]\n",
       "order_estimated_delivery_date    datetime64[ns]\n",
       "dtype: object"
      ]
     },
     "execution_count": 305,
     "metadata": {},
     "output_type": "execute_result"
    }
   ],
   "source": [
    "orders.dtypes"
   ]
  },
  {
   "cell_type": "code",
   "execution_count": 306,
   "metadata": {},
   "outputs": [
    {
     "data": {
      "text/plain": [
       "8"
      ]
     },
     "execution_count": 306,
     "metadata": {},
     "output_type": "execute_result"
    }
   ],
   "source": [
    "orders.order_status.nunique()"
   ]
  },
  {
   "cell_type": "code",
   "execution_count": 307,
   "metadata": {
    "scrolled": true
   },
   "outputs": [
    {
     "data": {
      "text/html": [
       "<div>\n",
       "<style scoped>\n",
       "    .dataframe tbody tr th:only-of-type {\n",
       "        vertical-align: middle;\n",
       "    }\n",
       "\n",
       "    .dataframe tbody tr th {\n",
       "        vertical-align: top;\n",
       "    }\n",
       "\n",
       "    .dataframe thead th {\n",
       "        text-align: right;\n",
       "    }\n",
       "</style>\n",
       "<table border=\"1\" class=\"dataframe\">\n",
       "  <thead>\n",
       "    <tr style=\"text-align: right;\">\n",
       "      <th></th>\n",
       "      <th>order_id</th>\n",
       "      <th>order_item_id</th>\n",
       "      <th>product_id</th>\n",
       "      <th>seller_id</th>\n",
       "      <th>shipping_limit_date</th>\n",
       "      <th>price</th>\n",
       "      <th>freight_value</th>\n",
       "    </tr>\n",
       "  </thead>\n",
       "  <tbody>\n",
       "    <tr>\n",
       "      <th>0</th>\n",
       "      <td>00010242fe8c5a6d1ba2dd792cb16214</td>\n",
       "      <td>1</td>\n",
       "      <td>4244733e06e7ecb4970a6e2683c13e61</td>\n",
       "      <td>48436dade18ac8b2bce089ec2a041202</td>\n",
       "      <td>2017-09-19 09:45:35</td>\n",
       "      <td>58.9</td>\n",
       "      <td>13.29</td>\n",
       "    </tr>\n",
       "    <tr>\n",
       "      <th>1</th>\n",
       "      <td>00018f77f2f0320c557190d7a144bdd3</td>\n",
       "      <td>1</td>\n",
       "      <td>e5f2d52b802189ee658865ca93d83a8f</td>\n",
       "      <td>dd7ddc04e1b6c2c614352b383efe2d36</td>\n",
       "      <td>2017-05-03 11:05:13</td>\n",
       "      <td>239.9</td>\n",
       "      <td>19.93</td>\n",
       "    </tr>\n",
       "    <tr>\n",
       "      <th>2</th>\n",
       "      <td>000229ec398224ef6ca0657da4fc703e</td>\n",
       "      <td>1</td>\n",
       "      <td>c777355d18b72b67abbeef9df44fd0fd</td>\n",
       "      <td>5b51032eddd242adc84c38acab88f23d</td>\n",
       "      <td>2018-01-18 14:48:30</td>\n",
       "      <td>199.0</td>\n",
       "      <td>17.87</td>\n",
       "    </tr>\n",
       "  </tbody>\n",
       "</table>\n",
       "</div>"
      ],
      "text/plain": [
       "                           order_id  order_item_id  \\\n",
       "0  00010242fe8c5a6d1ba2dd792cb16214              1   \n",
       "1  00018f77f2f0320c557190d7a144bdd3              1   \n",
       "2  000229ec398224ef6ca0657da4fc703e              1   \n",
       "\n",
       "                         product_id                         seller_id  \\\n",
       "0  4244733e06e7ecb4970a6e2683c13e61  48436dade18ac8b2bce089ec2a041202   \n",
       "1  e5f2d52b802189ee658865ca93d83a8f  dd7ddc04e1b6c2c614352b383efe2d36   \n",
       "2  c777355d18b72b67abbeef9df44fd0fd  5b51032eddd242adc84c38acab88f23d   \n",
       "\n",
       "  shipping_limit_date  price  freight_value  \n",
       "0 2017-09-19 09:45:35   58.9          13.29  \n",
       "1 2017-05-03 11:05:13  239.9          19.93  \n",
       "2 2018-01-18 14:48:30  199.0          17.87  "
      ]
     },
     "execution_count": 307,
     "metadata": {},
     "output_type": "execute_result"
    }
   ],
   "source": [
    "items = pd.read_csv('/Users/kristinasharoyko/Documents/data_for/archive/olist_order_items_dataset.csv', \\\n",
    "                   parse_dates = ['shipping_limit_date'])\n",
    "items.head(3)"
   ]
  },
  {
   "cell_type": "code",
   "execution_count": 308,
   "metadata": {},
   "outputs": [
    {
     "data": {
      "text/plain": [
       "(112650, 7)"
      ]
     },
     "execution_count": 308,
     "metadata": {},
     "output_type": "execute_result"
    }
   ],
   "source": [
    "items.shape"
   ]
  },
  {
   "cell_type": "code",
   "execution_count": 309,
   "metadata": {},
   "outputs": [
    {
     "data": {
      "text/plain": [
       "order_id                       object\n",
       "order_item_id                   int64\n",
       "product_id                     object\n",
       "seller_id                      object\n",
       "shipping_limit_date    datetime64[ns]\n",
       "price                         float64\n",
       "freight_value                 float64\n",
       "dtype: object"
      ]
     },
     "execution_count": 309,
     "metadata": {},
     "output_type": "execute_result"
    }
   ],
   "source": [
    "items.dtypes"
   ]
  },
  {
   "cell_type": "code",
   "execution_count": 310,
   "metadata": {},
   "outputs": [
    {
     "data": {
      "text/plain": [
       "order_id               98666\n",
       "order_item_id             21\n",
       "product_id             32951\n",
       "seller_id               3095\n",
       "shipping_limit_date    93318\n",
       "price                   5968\n",
       "freight_value           6999\n",
       "dtype: int64"
      ]
     },
     "execution_count": 310,
     "metadata": {},
     "output_type": "execute_result"
    }
   ],
   "source": [
    "items.nunique()"
   ]
  },
  {
   "cell_type": "markdown",
   "metadata": {},
   "source": [
    "Данные соответствуют описанию. **Покупкой** будем считать доставленный заказ, тк он уже принес прибыль, не был отменен/недоступен/в процессе доставки"
   ]
  },
  {
   "cell_type": "markdown",
   "metadata": {},
   "source": [
    "### Количество пользователей, которые совершили покупку только один раз"
   ]
  },
  {
   "cell_type": "markdown",
   "metadata": {},
   "source": [
    "Посмотрим количество уникальных customer_id и customer_unique_id в customers\\\n",
    "customer_unique_id - это точно какой-то уникальный номер пользователя, customer_id пока не очень понятно что"
   ]
  },
  {
   "cell_type": "code",
   "execution_count": 311,
   "metadata": {},
   "outputs": [
    {
     "data": {
      "text/plain": [
       "customer_id                 99441\n",
       "customer_unique_id          96096\n",
       "customer_zip_code_prefix    14994\n",
       "customer_city                4119\n",
       "customer_state                 27\n",
       "dtype: int64"
      ]
     },
     "execution_count": 311,
     "metadata": {},
     "output_type": "execute_result"
    }
   ],
   "source": [
    "customers.nunique()"
   ]
  },
  {
   "cell_type": "markdown",
   "metadata": {},
   "source": [
    "customer_id есть в orders, для каждого order_id есть только один customer_id"
   ]
  },
  {
   "cell_type": "code",
   "execution_count": 312,
   "metadata": {},
   "outputs": [
    {
     "data": {
      "text/plain": [
       "order_id                         99441\n",
       "customer_id                      99441\n",
       "order_status                         8\n",
       "order_purchase_timestamp         98875\n",
       "order_approved_at                90733\n",
       "order_delivered_carrier_date     81018\n",
       "order_delivered_customer_date    95664\n",
       "order_estimated_delivery_date      459\n",
       "dtype: int64"
      ]
     },
     "execution_count": 312,
     "metadata": {},
     "output_type": "execute_result"
    }
   ],
   "source": [
    "orders.nunique()"
   ]
  },
  {
   "cell_type": "code",
   "execution_count": 313,
   "metadata": {},
   "outputs": [
    {
     "data": {
      "text/html": [
       "<div>\n",
       "<style scoped>\n",
       "    .dataframe tbody tr th:only-of-type {\n",
       "        vertical-align: middle;\n",
       "    }\n",
       "\n",
       "    .dataframe tbody tr th {\n",
       "        vertical-align: top;\n",
       "    }\n",
       "\n",
       "    .dataframe thead th {\n",
       "        text-align: right;\n",
       "    }\n",
       "</style>\n",
       "<table border=\"1\" class=\"dataframe\">\n",
       "  <thead>\n",
       "    <tr style=\"text-align: right;\">\n",
       "      <th></th>\n",
       "      <th>order_id</th>\n",
       "      <th>customer_id</th>\n",
       "      <th>order_status</th>\n",
       "      <th>order_purchase_timestamp</th>\n",
       "      <th>order_approved_at</th>\n",
       "      <th>order_delivered_carrier_date</th>\n",
       "      <th>order_delivered_customer_date</th>\n",
       "      <th>order_estimated_delivery_date</th>\n",
       "    </tr>\n",
       "  </thead>\n",
       "  <tbody>\n",
       "    <tr>\n",
       "      <th>44</th>\n",
       "      <td>ee64d42b8cf066f35eac1cf57de1aa85</td>\n",
       "      <td>caded193e8e47b8362864762a83db3c5</td>\n",
       "      <td>shipped</td>\n",
       "      <td>2018-06-04 16:44:48</td>\n",
       "      <td>2018-06-05 04:31:18</td>\n",
       "      <td>2018-06-05 14:32:00</td>\n",
       "      <td>NaT</td>\n",
       "      <td>2018-06-28</td>\n",
       "    </tr>\n",
       "  </tbody>\n",
       "</table>\n",
       "</div>"
      ],
      "text/plain": [
       "                            order_id                       customer_id  \\\n",
       "44  ee64d42b8cf066f35eac1cf57de1aa85  caded193e8e47b8362864762a83db3c5   \n",
       "\n",
       "   order_status order_purchase_timestamp   order_approved_at  \\\n",
       "44      shipped      2018-06-04 16:44:48 2018-06-05 04:31:18   \n",
       "\n",
       "   order_delivered_carrier_date order_delivered_customer_date  \\\n",
       "44          2018-06-05 14:32:00                           NaT   \n",
       "\n",
       "   order_estimated_delivery_date  \n",
       "44                    2018-06-28  "
      ]
     },
     "execution_count": 313,
     "metadata": {},
     "output_type": "execute_result"
    }
   ],
   "source": [
    "orders.query(\"order_status == 'shipped'\").head(1)"
   ]
  },
  {
   "cell_type": "code",
   "execution_count": 314,
   "metadata": {},
   "outputs": [
    {
     "data": {
      "text/html": [
       "<div>\n",
       "<style scoped>\n",
       "    .dataframe tbody tr th:only-of-type {\n",
       "        vertical-align: middle;\n",
       "    }\n",
       "\n",
       "    .dataframe tbody tr th {\n",
       "        vertical-align: top;\n",
       "    }\n",
       "\n",
       "    .dataframe thead th {\n",
       "        text-align: right;\n",
       "    }\n",
       "</style>\n",
       "<table border=\"1\" class=\"dataframe\">\n",
       "  <thead>\n",
       "    <tr style=\"text-align: right;\">\n",
       "      <th></th>\n",
       "      <th>order_id</th>\n",
       "      <th>customer_id</th>\n",
       "      <th>order_status</th>\n",
       "      <th>order_purchase_timestamp</th>\n",
       "      <th>order_approved_at</th>\n",
       "      <th>order_delivered_carrier_date</th>\n",
       "      <th>order_delivered_customer_date</th>\n",
       "      <th>order_estimated_delivery_date</th>\n",
       "    </tr>\n",
       "  </thead>\n",
       "  <tbody>\n",
       "    <tr>\n",
       "      <th>7434</th>\n",
       "      <td>b5359909123fa03c50bdb0cfed07f098</td>\n",
       "      <td>438449d4af8980d107bf04571413a8e7</td>\n",
       "      <td>created</td>\n",
       "      <td>2017-12-05 01:07:52</td>\n",
       "      <td>NaT</td>\n",
       "      <td>NaT</td>\n",
       "      <td>NaT</td>\n",
       "      <td>2018-01-11</td>\n",
       "    </tr>\n",
       "  </tbody>\n",
       "</table>\n",
       "</div>"
      ],
      "text/plain": [
       "                              order_id                       customer_id  \\\n",
       "7434  b5359909123fa03c50bdb0cfed07f098  438449d4af8980d107bf04571413a8e7   \n",
       "\n",
       "     order_status order_purchase_timestamp order_approved_at  \\\n",
       "7434      created      2017-12-05 01:07:52               NaT   \n",
       "\n",
       "     order_delivered_carrier_date order_delivered_customer_date  \\\n",
       "7434                          NaT                           NaT   \n",
       "\n",
       "     order_estimated_delivery_date  \n",
       "7434                    2018-01-11  "
      ]
     },
     "execution_count": 314,
     "metadata": {},
     "output_type": "execute_result"
    }
   ],
   "source": [
    "orders.query(\"order_status == 'created'\").head(1)"
   ]
  },
  {
   "cell_type": "markdown",
   "metadata": {},
   "source": [
    "По структуре дф можно сделать вывод, что для каждого заказа order_id каждый раз создается новый customer_id, который соответствует одному customer_unique_id, а order_status перезаписывается при изменении статуса заказа, при этом еще добавляется время в колонки order_purchase_timestamp, order_approved_at, order_delivered_carrier_date, order_delivered_customer_date, когда статус изменился.\\\n",
    "В orders у нас просто все заказы, посчитаем только те покупки, которые были доставлены. "
   ]
  },
  {
   "cell_type": "code",
   "execution_count": 315,
   "metadata": {},
   "outputs": [
    {
     "data": {
      "text/html": [
       "<div>\n",
       "<style scoped>\n",
       "    .dataframe tbody tr th:only-of-type {\n",
       "        vertical-align: middle;\n",
       "    }\n",
       "\n",
       "    .dataframe tbody tr th {\n",
       "        vertical-align: top;\n",
       "    }\n",
       "\n",
       "    .dataframe thead th {\n",
       "        text-align: right;\n",
       "    }\n",
       "</style>\n",
       "<table border=\"1\" class=\"dataframe\">\n",
       "  <thead>\n",
       "    <tr style=\"text-align: right;\">\n",
       "      <th></th>\n",
       "      <th>order_id</th>\n",
       "      <th>customer_id</th>\n",
       "      <th>order_status</th>\n",
       "      <th>order_purchase_timestamp</th>\n",
       "      <th>order_approved_at</th>\n",
       "      <th>order_delivered_carrier_date</th>\n",
       "      <th>order_delivered_customer_date</th>\n",
       "      <th>order_estimated_delivery_date</th>\n",
       "      <th>customer_unique_id</th>\n",
       "      <th>customer_zip_code_prefix</th>\n",
       "      <th>customer_city</th>\n",
       "      <th>customer_state</th>\n",
       "    </tr>\n",
       "  </thead>\n",
       "  <tbody>\n",
       "    <tr>\n",
       "      <th>0</th>\n",
       "      <td>e481f51cbdc54678b7cc49136f2d6af7</td>\n",
       "      <td>9ef432eb6251297304e76186b10a928d</td>\n",
       "      <td>delivered</td>\n",
       "      <td>2017-10-02 10:56:33</td>\n",
       "      <td>2017-10-02 11:07:15</td>\n",
       "      <td>2017-10-04 19:55:00</td>\n",
       "      <td>2017-10-10 21:25:13</td>\n",
       "      <td>2017-10-18</td>\n",
       "      <td>7c396fd4830fd04220f754e42b4e5bff</td>\n",
       "      <td>3149</td>\n",
       "      <td>sao paulo</td>\n",
       "      <td>SP</td>\n",
       "    </tr>\n",
       "    <tr>\n",
       "      <th>1</th>\n",
       "      <td>53cdb2fc8bc7dce0b6741e2150273451</td>\n",
       "      <td>b0830fb4747a6c6d20dea0b8c802d7ef</td>\n",
       "      <td>delivered</td>\n",
       "      <td>2018-07-24 20:41:37</td>\n",
       "      <td>2018-07-26 03:24:27</td>\n",
       "      <td>2018-07-26 14:31:00</td>\n",
       "      <td>2018-08-07 15:27:45</td>\n",
       "      <td>2018-08-13</td>\n",
       "      <td>af07308b275d755c9edb36a90c618231</td>\n",
       "      <td>47813</td>\n",
       "      <td>barreiras</td>\n",
       "      <td>BA</td>\n",
       "    </tr>\n",
       "    <tr>\n",
       "      <th>2</th>\n",
       "      <td>47770eb9100c2d0c44946d9cf07ec65d</td>\n",
       "      <td>41ce2a54c0b03bf3443c3d931a367089</td>\n",
       "      <td>delivered</td>\n",
       "      <td>2018-08-08 08:38:49</td>\n",
       "      <td>2018-08-08 08:55:23</td>\n",
       "      <td>2018-08-08 13:50:00</td>\n",
       "      <td>2018-08-17 18:06:29</td>\n",
       "      <td>2018-09-04</td>\n",
       "      <td>3a653a41f6f9fc3d2a113cf8398680e8</td>\n",
       "      <td>75265</td>\n",
       "      <td>vianopolis</td>\n",
       "      <td>GO</td>\n",
       "    </tr>\n",
       "  </tbody>\n",
       "</table>\n",
       "</div>"
      ],
      "text/plain": [
       "                           order_id                       customer_id  \\\n",
       "0  e481f51cbdc54678b7cc49136f2d6af7  9ef432eb6251297304e76186b10a928d   \n",
       "1  53cdb2fc8bc7dce0b6741e2150273451  b0830fb4747a6c6d20dea0b8c802d7ef   \n",
       "2  47770eb9100c2d0c44946d9cf07ec65d  41ce2a54c0b03bf3443c3d931a367089   \n",
       "\n",
       "  order_status order_purchase_timestamp   order_approved_at  \\\n",
       "0    delivered      2017-10-02 10:56:33 2017-10-02 11:07:15   \n",
       "1    delivered      2018-07-24 20:41:37 2018-07-26 03:24:27   \n",
       "2    delivered      2018-08-08 08:38:49 2018-08-08 08:55:23   \n",
       "\n",
       "  order_delivered_carrier_date order_delivered_customer_date  \\\n",
       "0          2017-10-04 19:55:00           2017-10-10 21:25:13   \n",
       "1          2018-07-26 14:31:00           2018-08-07 15:27:45   \n",
       "2          2018-08-08 13:50:00           2018-08-17 18:06:29   \n",
       "\n",
       "  order_estimated_delivery_date                customer_unique_id  \\\n",
       "0                    2017-10-18  7c396fd4830fd04220f754e42b4e5bff   \n",
       "1                    2018-08-13  af07308b275d755c9edb36a90c618231   \n",
       "2                    2018-09-04  3a653a41f6f9fc3d2a113cf8398680e8   \n",
       "\n",
       "   customer_zip_code_prefix customer_city customer_state  \n",
       "0                      3149     sao paulo             SP  \n",
       "1                     47813     barreiras             BA  \n",
       "2                     75265    vianopolis             GO  "
      ]
     },
     "execution_count": 315,
     "metadata": {},
     "output_type": "execute_result"
    }
   ],
   "source": [
    "#объединим orders и customers\n",
    "orders_customers = orders.merge(customers, how = 'inner', on = 'customer_id' )\n",
    "\n",
    "\n",
    "orders_customers.head(3)"
   ]
  },
  {
   "cell_type": "markdown",
   "metadata": {},
   "source": [
    "#### Рассчет доставленных покупкок для каждого уникального пользователя и сколько пользователей сколько покупок совершили"
   ]
  },
  {
   "cell_type": "code",
   "execution_count": 316,
   "metadata": {
    "scrolled": true
   },
   "outputs": [
    {
     "data": {
      "text/plain": [
       "customer_id\n",
       "1     90557\n",
       "2      2573\n",
       "3       181\n",
       "4        28\n",
       "5         9\n",
       "6         5\n",
       "7         3\n",
       "9         1\n",
       "15        1\n",
       "dtype: int64"
      ]
     },
     "execution_count": 316,
     "metadata": {},
     "output_type": "execute_result"
    }
   ],
   "source": [
    "orders_customers.query(\"order_status == 'delivered'\")\\\n",
    "                .groupby('customer_unique_id', as_index=False)\\\n",
    "                .agg({'customer_id':'count'}).value_counts('customer_id')"
   ]
  },
  {
   "cell_type": "markdown",
   "metadata": {},
   "source": [
    "#### Процент пользователей, которые совершили покупку только один раз"
   ]
  },
  {
   "cell_type": "code",
   "execution_count": 317,
   "metadata": {
    "scrolled": true
   },
   "outputs": [
    {
     "data": {
      "text/plain": [
       "96.9"
      ]
     },
     "execution_count": 317,
     "metadata": {},
     "output_type": "execute_result"
    }
   ],
   "source": [
    "order_count_by = orders_customers[['order_id', 'customer_unique_id']].groupby('customer_unique_id', as_index=False).agg({'order_id':'count'})\n",
    "round(order_count_by.query(\"order_id==1\").customer_unique_id.count()/order_count_by.customer_unique_id.count() *100, 1)"
   ]
  },
  {
   "cell_type": "markdown",
   "metadata": {},
   "source": [
    "**90557 пользователей совершили покупку только один раз, это 96.9%**"
   ]
  },
  {
   "cell_type": "markdown",
   "metadata": {},
   "source": [
    "### Детализация причин недоставленных заказов"
   ]
  },
  {
   "cell_type": "code",
   "execution_count": 318,
   "metadata": {},
   "outputs": [],
   "source": [
    "# количество месяцев между первым и последним заказом в исходных данных\n",
    "d1 = orders['order_purchase_timestamp'].min()\n",
    "d2 = orders['order_purchase_timestamp'].max()\n",
    "delta = relativedelta.relativedelta(d2, d1)\n",
    "delta_months = delta.years*12 + delta.months\n",
    "\n",
    "# количество недоставленных заказов\n",
    "not_delivered_count = orders.query(\"order_status != 'delivered'\").groupby('order_status', as_index = False)\\\n",
    "                        .agg({'order_id':'count'})\\\n",
    "                        .rename(columns = {'order_id':'count'})\\\n",
    "                        .sort_values('count', ascending = False)"
   ]
  },
  {
   "cell_type": "markdown",
   "metadata": {},
   "source": [
    "**Количество недоставленных заказов в среднем в месяц по все причинам**  (avg_month), в том числе заказы, которые пока еще не доставлены. Категории, которые не находятся в процессе доставки, это canceled и unavailable, то есть те, которые точно не будут доставлены. Остальные пока в состоянии неопределенности, нужно проследить после."
   ]
  },
  {
   "cell_type": "code",
   "execution_count": 319,
   "metadata": {},
   "outputs": [
    {
     "data": {
      "text/html": [
       "<div>\n",
       "<style scoped>\n",
       "    .dataframe tbody tr th:only-of-type {\n",
       "        vertical-align: middle;\n",
       "    }\n",
       "\n",
       "    .dataframe tbody tr th {\n",
       "        vertical-align: top;\n",
       "    }\n",
       "\n",
       "    .dataframe thead th {\n",
       "        text-align: right;\n",
       "    }\n",
       "</style>\n",
       "<table border=\"1\" class=\"dataframe\">\n",
       "  <thead>\n",
       "    <tr style=\"text-align: right;\">\n",
       "      <th></th>\n",
       "      <th>order_status</th>\n",
       "      <th>count</th>\n",
       "      <th>avg_month</th>\n",
       "    </tr>\n",
       "  </thead>\n",
       "  <tbody>\n",
       "    <tr>\n",
       "      <th>5</th>\n",
       "      <td>shipped</td>\n",
       "      <td>1107</td>\n",
       "      <td>44.28</td>\n",
       "    </tr>\n",
       "    <tr>\n",
       "      <th>1</th>\n",
       "      <td>canceled</td>\n",
       "      <td>625</td>\n",
       "      <td>25.00</td>\n",
       "    </tr>\n",
       "    <tr>\n",
       "      <th>6</th>\n",
       "      <td>unavailable</td>\n",
       "      <td>609</td>\n",
       "      <td>24.36</td>\n",
       "    </tr>\n",
       "    <tr>\n",
       "      <th>3</th>\n",
       "      <td>invoiced</td>\n",
       "      <td>314</td>\n",
       "      <td>12.56</td>\n",
       "    </tr>\n",
       "    <tr>\n",
       "      <th>4</th>\n",
       "      <td>processing</td>\n",
       "      <td>301</td>\n",
       "      <td>12.04</td>\n",
       "    </tr>\n",
       "    <tr>\n",
       "      <th>2</th>\n",
       "      <td>created</td>\n",
       "      <td>5</td>\n",
       "      <td>0.20</td>\n",
       "    </tr>\n",
       "    <tr>\n",
       "      <th>0</th>\n",
       "      <td>approved</td>\n",
       "      <td>2</td>\n",
       "      <td>0.08</td>\n",
       "    </tr>\n",
       "  </tbody>\n",
       "</table>\n",
       "</div>"
      ],
      "text/plain": [
       "  order_status  count  avg_month\n",
       "5      shipped   1107      44.28\n",
       "1     canceled    625      25.00\n",
       "6  unavailable    609      24.36\n",
       "3     invoiced    314      12.56\n",
       "4   processing    301      12.04\n",
       "2      created      5       0.20\n",
       "0     approved      2       0.08"
      ]
     },
     "execution_count": 319,
     "metadata": {},
     "output_type": "execute_result"
    }
   ],
   "source": [
    "not_delivered_count['avg_month'] = not_delivered_count['count'] / delta_months\n",
    "not_delivered_count"
   ]
  },
  {
   "cell_type": "markdown",
   "metadata": {},
   "source": [
    "### Среднее количество покупок в неделю"
   ]
  },
  {
   "cell_type": "code",
   "execution_count": 320,
   "metadata": {
    "scrolled": false
   },
   "outputs": [
    {
     "data": {
      "text/html": [
       "<div>\n",
       "<style scoped>\n",
       "    .dataframe tbody tr th:only-of-type {\n",
       "        vertical-align: middle;\n",
       "    }\n",
       "\n",
       "    .dataframe tbody tr th {\n",
       "        vertical-align: top;\n",
       "    }\n",
       "\n",
       "    .dataframe thead th {\n",
       "        text-align: right;\n",
       "    }\n",
       "</style>\n",
       "<table border=\"1\" class=\"dataframe\">\n",
       "  <thead>\n",
       "    <tr style=\"text-align: right;\">\n",
       "      <th></th>\n",
       "      <th>customer_unique_id</th>\n",
       "      <th>year</th>\n",
       "      <th>month</th>\n",
       "      <th>week_in_month</th>\n",
       "      <th>order_count</th>\n",
       "      <th>avg_week</th>\n",
       "    </tr>\n",
       "  </thead>\n",
       "  <tbody>\n",
       "    <tr>\n",
       "      <th>48814</th>\n",
       "      <td>830d5b7aaa3b6f1e9ad63703bec97d23</td>\n",
       "      <td>2016</td>\n",
       "      <td>9</td>\n",
       "      <td>4.285714</td>\n",
       "      <td>1</td>\n",
       "      <td>0.233333</td>\n",
       "    </tr>\n",
       "    <tr>\n",
       "      <th>72</th>\n",
       "      <td>0032c76b20340da25249092a268ce66c</td>\n",
       "      <td>2016</td>\n",
       "      <td>10</td>\n",
       "      <td>4.428571</td>\n",
       "      <td>1</td>\n",
       "      <td>0.225806</td>\n",
       "    </tr>\n",
       "    <tr>\n",
       "      <th>732</th>\n",
       "      <td>01f156677184504063bd19739f924af1</td>\n",
       "      <td>2016</td>\n",
       "      <td>10</td>\n",
       "      <td>4.428571</td>\n",
       "      <td>1</td>\n",
       "      <td>0.225806</td>\n",
       "    </tr>\n",
       "    <tr>\n",
       "      <th>2298</th>\n",
       "      <td>0636d30c77f0f9cfad81f1c9b58c791f</td>\n",
       "      <td>2016</td>\n",
       "      <td>10</td>\n",
       "      <td>4.428571</td>\n",
       "      <td>1</td>\n",
       "      <td>0.225806</td>\n",
       "    </tr>\n",
       "    <tr>\n",
       "      <th>2494</th>\n",
       "      <td>06bdfbbe1857c3c925ec81abfb1c9666</td>\n",
       "      <td>2016</td>\n",
       "      <td>10</td>\n",
       "      <td>4.428571</td>\n",
       "      <td>1</td>\n",
       "      <td>0.225806</td>\n",
       "    </tr>\n",
       "    <tr>\n",
       "      <th>...</th>\n",
       "      <td>...</td>\n",
       "      <td>...</td>\n",
       "      <td>...</td>\n",
       "      <td>...</td>\n",
       "      <td>...</td>\n",
       "      <td>...</td>\n",
       "    </tr>\n",
       "    <tr>\n",
       "      <th>95117</th>\n",
       "      <td>ffc39051848c3ef2be36d1513aa3ad17</td>\n",
       "      <td>2018</td>\n",
       "      <td>8</td>\n",
       "      <td>4.428571</td>\n",
       "      <td>1</td>\n",
       "      <td>0.225806</td>\n",
       "    </tr>\n",
       "    <tr>\n",
       "      <th>95120</th>\n",
       "      <td>ffc4e1cd8aa220763480d0a18157c45d</td>\n",
       "      <td>2018</td>\n",
       "      <td>8</td>\n",
       "      <td>4.428571</td>\n",
       "      <td>1</td>\n",
       "      <td>0.225806</td>\n",
       "    </tr>\n",
       "    <tr>\n",
       "      <th>95149</th>\n",
       "      <td>ffe204b1bb8026741b839085b2fd10f2</td>\n",
       "      <td>2018</td>\n",
       "      <td>8</td>\n",
       "      <td>4.428571</td>\n",
       "      <td>1</td>\n",
       "      <td>0.225806</td>\n",
       "    </tr>\n",
       "    <tr>\n",
       "      <th>95169</th>\n",
       "      <td>ffec490ab531184a483efe2eedd68908</td>\n",
       "      <td>2018</td>\n",
       "      <td>8</td>\n",
       "      <td>4.428571</td>\n",
       "      <td>1</td>\n",
       "      <td>0.225806</td>\n",
       "    </tr>\n",
       "    <tr>\n",
       "      <th>95185</th>\n",
       "      <td>fff96bc586f78b1f070da28c4977e810</td>\n",
       "      <td>2018</td>\n",
       "      <td>8</td>\n",
       "      <td>4.428571</td>\n",
       "      <td>1</td>\n",
       "      <td>0.225806</td>\n",
       "    </tr>\n",
       "  </tbody>\n",
       "</table>\n",
       "<p>95194 rows × 6 columns</p>\n",
       "</div>"
      ],
      "text/plain": [
       "                     customer_unique_id  year  month  week_in_month  \\\n",
       "48814  830d5b7aaa3b6f1e9ad63703bec97d23  2016      9       4.285714   \n",
       "72     0032c76b20340da25249092a268ce66c  2016     10       4.428571   \n",
       "732    01f156677184504063bd19739f924af1  2016     10       4.428571   \n",
       "2298   0636d30c77f0f9cfad81f1c9b58c791f  2016     10       4.428571   \n",
       "2494   06bdfbbe1857c3c925ec81abfb1c9666  2016     10       4.428571   \n",
       "...                                 ...   ...    ...            ...   \n",
       "95117  ffc39051848c3ef2be36d1513aa3ad17  2018      8       4.428571   \n",
       "95120  ffc4e1cd8aa220763480d0a18157c45d  2018      8       4.428571   \n",
       "95149  ffe204b1bb8026741b839085b2fd10f2  2018      8       4.428571   \n",
       "95169  ffec490ab531184a483efe2eedd68908  2018      8       4.428571   \n",
       "95185  fff96bc586f78b1f070da28c4977e810  2018      8       4.428571   \n",
       "\n",
       "       order_count  avg_week  \n",
       "48814            1  0.233333  \n",
       "72               1  0.225806  \n",
       "732              1  0.225806  \n",
       "2298             1  0.225806  \n",
       "2494             1  0.225806  \n",
       "...            ...       ...  \n",
       "95117            1  0.225806  \n",
       "95120            1  0.225806  \n",
       "95149            1  0.225806  \n",
       "95169            1  0.225806  \n",
       "95185            1  0.225806  \n",
       "\n",
       "[95194 rows x 6 columns]"
      ]
     },
     "execution_count": 320,
     "metadata": {},
     "output_type": "execute_result"
    }
   ],
   "source": [
    "#добавим к заказам информацию об уникальных покупателях, учтем только доставленные покупки\n",
    "orders_customers = orders[orders['order_status'] == 'delivered'][['order_id', 'customer_id', 'order_purchase_timestamp']]\\\n",
    "                    .merge(customers[['customer_id', 'customer_unique_id']])\\\n",
    "                    .sort_values('order_purchase_timestamp')\n",
    "\n",
    "# количество недель в месяце совершения покупки\n",
    "orders_customers['week_in_month'] = orders_customers['order_purchase_timestamp']\\\n",
    "                                    .apply(lambda x: calendar.mdays[x.month]/7)\n",
    "# добавим месяц покупки и год покупки\n",
    "orders_customers['month'] = orders_customers.order_purchase_timestamp.dt.month\n",
    "orders_customers['year'] = orders_customers.order_purchase_timestamp.dt.year\n",
    "\n",
    "# количество покупок за каждый месяц для каждого уникального пользователя\n",
    "orders_customers_count = orders_customers.groupby(['customer_unique_id', 'year', 'month', 'week_in_month'], as_index = False)\\\n",
    "                .agg({'order_id':'count'})\\\n",
    "                .rename(columns = {'order_id':'order_count'})\n",
    "\n",
    "#добавим столбец со средним количеством покупок в неделю по каждому месяцу\n",
    "orders_customers_count['avg_week'] = orders_customers_count['order_count'] /orders_customers_count['week_in_month']\n",
    "\n",
    "#итоговая таблица\n",
    "orders_customers_count.sort_values(['year', 'month'])"
   ]
  },
  {
   "cell_type": "markdown",
   "metadata": {},
   "source": [
    "Общее среднее всех покупателей"
   ]
  },
  {
   "cell_type": "code",
   "execution_count": 321,
   "metadata": {},
   "outputs": [
    {
     "data": {
      "text/plain": [
       "0.2332925225027247"
      ]
     },
     "execution_count": 321,
     "metadata": {},
     "output_type": "execute_result"
    }
   ],
   "source": [
    "orders_customers_count['avg_week'].mean()"
   ]
  },
  {
   "cell_type": "markdown",
   "metadata": {},
   "source": [
    "### Когортный анализ. Определить когорту с наибольшим retention в период на 3-й месяц"
   ]
  },
  {
   "cell_type": "markdown",
   "metadata": {},
   "source": [
    "Функция для построения тепловой карты retention."
   ]
  },
  {
   "cell_type": "code",
   "execution_count": 322,
   "metadata": {},
   "outputs": [],
   "source": [
    "def cohort_heatmap(start='2017-01', end='2017-12'):\n",
    "    \n",
    "    # таблица с доставленными заказами и уникальными пользователями\n",
    "    df = orders[orders['order_status'] == 'delivered'][['customer_id', 'order_purchase_timestamp']]\\\n",
    "                    .merge(customers[['customer_id', 'customer_unique_id']], how = 'left', on = 'customer_id' )\n",
    "\n",
    "    # создаем cohort(указывает ежемесячную когорту - дата первой покупки)\n",
    "    df['order_month'] = df['order_purchase_timestamp'].dt.to_period('M')\n",
    "    \n",
    "    # order_month(месяц покупки)\n",
    "    df['cohort'] = df.groupby('customer_unique_id')['order_purchase_timestamp'] \\\n",
    "                     .transform('min') \\\n",
    "                     .dt.to_period('M') \n",
    "    \n",
    "    # количество уникальных клиентов в каждой когорте \n",
    "    df_cohort = df.groupby(['cohort', 'order_month']) \\\n",
    "                  .agg(n_customers=('customer_unique_id', 'nunique')) \\\n",
    "                  .reset_index(drop=False)\n",
    "    \n",
    "    # количество периодов между месяцем когорты и месяцем покупки\n",
    "    df_cohort['period_number'] = (df_cohort.order_month - df_cohort.cohort).apply(attrgetter('n'))\n",
    "\n",
    "    # сводная таблица\n",
    "    cohort_pivot = df_cohort.pivot_table(index = 'cohort',\n",
    "                                         columns = 'period_number',\n",
    "                                         values = 'n_customers')\\\n",
    "                            .query(\"cohort >= @start & cohort <= @end\")\n",
    "    cohort_size = cohort_pivot.iloc[:,0]\n",
    "    \n",
    "    # расчет retention\n",
    "    retention_matrix = cohort_pivot.divide(cohort_size, axis = 0).query(\"cohort >= @start & cohort <= @end\")\n",
    "\n",
    "    # настройки heatmap\n",
    "    with sns.axes_style(\"white\"):\n",
    "        fig, ax = plt.subplots(1, 2, figsize=(25, 10), sharey=True, gridspec_kw={'width_ratios': [1, 13]})\n",
    "\n",
    "        # retention matrix\n",
    "        sns.heatmap(retention_matrix, \n",
    "                    mask=retention_matrix.isnull(), \n",
    "                    annot=True, \n",
    "                    fmt = '.1g', \n",
    "                    cmap='RdYlGn',\n",
    "                    vmin=0.0,vmax=0.009,\n",
    "                    ax=ax[1])\n",
    "        ax[1].set_title('Monthly Cohorts: User Retention', fontsize=16)\n",
    "        ax[1].set(xlabel='# of periods',\n",
    "                  ylabel='')\n",
    "\n",
    "        # cohort size\n",
    "        cohort_size_df = pd.DataFrame(cohort_size).rename(columns={0: 'cohort_size'})\n",
    "        white_cmap = mcolors.ListedColormap(['white'])\n",
    "        sns.heatmap(cohort_size_df, \n",
    "                    annot=True, \n",
    "                    cbar=False, \n",
    "                    fmt='g', \n",
    "                    cmap=white_cmap, \n",
    "                    ax=ax[0])\n",
    "        ax[0].set_yticklabels(ax[0].get_yticklabels(),rotation = 0)           \n",
    "        fig.tight_layout()"
   ]
  },
  {
   "cell_type": "code",
   "execution_count": 323,
   "metadata": {
    "scrolled": false
   },
   "outputs": [
    {
     "data": {
      "image/png": "[encoded data removed]",
      "text/plain": [
       "<Figure size 1800x720 with 3 Axes>"
      ]
     },
     "metadata": {},
     "output_type": "display_data"
    }
   ],
   "source": [
    "cohort_heatmap()"
   ]
  },
  {
   "cell_type": "markdown",
   "metadata": {},
   "source": [
    "Максимальный retention на 3-й месяц для когорты"
   ]
  },
  {
   "cell_type": "code",
   "execution_count": 324,
   "metadata": {},
   "outputs": [
    {
     "data": {
      "text/html": [
       "<div>\n",
       "<style scoped>\n",
       "    .dataframe tbody tr th:only-of-type {\n",
       "        vertical-align: middle;\n",
       "    }\n",
       "\n",
       "    .dataframe tbody tr th {\n",
       "        vertical-align: top;\n",
       "    }\n",
       "\n",
       "    .dataframe thead th {\n",
       "        text-align: right;\n",
       "    }\n",
       "</style>\n",
       "<table border=\"1\" class=\"dataframe\">\n",
       "  <thead>\n",
       "    <tr style=\"text-align: right;\">\n",
       "      <th>period_number</th>\n",
       "      <th>cohort</th>\n",
       "      <th>3</th>\n",
       "    </tr>\n",
       "  </thead>\n",
       "  <tbody>\n",
       "    <tr>\n",
       "      <th>5</th>\n",
       "      <td>2017-06</td>\n",
       "      <td>0.004281</td>\n",
       "    </tr>\n",
       "  </tbody>\n",
       "</table>\n",
       "</div>"
      ],
      "text/plain": [
       "period_number   cohort         3\n",
       "5              2017-06  0.004281"
      ]
     },
     "execution_count": 324,
     "metadata": {},
     "output_type": "execute_result"
    }
   ],
   "source": [
    "retention_matrix.reset_index()[['cohort',3]].sort_values(3, ascending = False).head(1)"
   ]
  },
  {
   "cell_type": "markdown",
   "metadata": {},
   "source": [
    "### RFM-сегментация пользователей"
   ]
  },
  {
   "cell_type": "code",
   "execution_count": 325,
   "metadata": {},
   "outputs": [
    {
     "data": {
      "text/html": [
       "<div>\n",
       "<style scoped>\n",
       "    .dataframe tbody tr th:only-of-type {\n",
       "        vertical-align: middle;\n",
       "    }\n",
       "\n",
       "    .dataframe tbody tr th {\n",
       "        vertical-align: top;\n",
       "    }\n",
       "\n",
       "    .dataframe thead th {\n",
       "        text-align: right;\n",
       "    }\n",
       "</style>\n",
       "<table border=\"1\" class=\"dataframe\">\n",
       "  <thead>\n",
       "    <tr style=\"text-align: right;\">\n",
       "      <th></th>\n",
       "      <th>order_id</th>\n",
       "      <th>price</th>\n",
       "      <th>time_between</th>\n",
       "      <th>delta_days</th>\n",
       "    </tr>\n",
       "  </thead>\n",
       "  <tbody>\n",
       "    <tr>\n",
       "      <th>count</th>\n",
       "      <td>93358.000000</td>\n",
       "      <td>93358.000000</td>\n",
       "      <td>93358</td>\n",
       "      <td>93358.000000</td>\n",
       "    </tr>\n",
       "    <tr>\n",
       "      <th>mean</th>\n",
       "      <td>1.033420</td>\n",
       "      <td>141.621480</td>\n",
       "      <td>-288 days +10:17:18.045363012</td>\n",
       "      <td>288.105444</td>\n",
       "    </tr>\n",
       "    <tr>\n",
       "      <th>std</th>\n",
       "      <td>0.209097</td>\n",
       "      <td>215.694014</td>\n",
       "      <td>152 days 14:14:18.081666462</td>\n",
       "      <td>152.591686</td>\n",
       "    </tr>\n",
       "    <tr>\n",
       "      <th>min</th>\n",
       "      <td>1.000000</td>\n",
       "      <td>0.850000</td>\n",
       "      <td>-764 days +18:46:20</td>\n",
       "      <td>51.000000</td>\n",
       "    </tr>\n",
       "    <tr>\n",
       "      <th>25%</th>\n",
       "      <td>1.000000</td>\n",
       "      <td>47.650000</td>\n",
       "      <td>-396 days +00:54:57</td>\n",
       "      <td>165.000000</td>\n",
       "    </tr>\n",
       "    <tr>\n",
       "      <th>50%</th>\n",
       "      <td>1.000000</td>\n",
       "      <td>89.730000</td>\n",
       "      <td>-269 days +06:41:54.500000</td>\n",
       "      <td>269.000000</td>\n",
       "    </tr>\n",
       "    <tr>\n",
       "      <th>75%</th>\n",
       "      <td>1.000000</td>\n",
       "      <td>154.737500</td>\n",
       "      <td>-165 days +23:52:16.750000</td>\n",
       "      <td>396.000000</td>\n",
       "    </tr>\n",
       "    <tr>\n",
       "      <th>max</th>\n",
       "      <td>15.000000</td>\n",
       "      <td>13440.000000</td>\n",
       "      <td>-51 days +21:30:19</td>\n",
       "      <td>764.000000</td>\n",
       "    </tr>\n",
       "  </tbody>\n",
       "</table>\n",
       "</div>"
      ],
      "text/plain": [
       "           order_id         price                   time_between    delta_days\n",
       "count  93358.000000  93358.000000                          93358  93358.000000\n",
       "mean       1.033420    141.621480  -288 days +10:17:18.045363012    288.105444\n",
       "std        0.209097    215.694014    152 days 14:14:18.081666462    152.591686\n",
       "min        1.000000      0.850000            -764 days +18:46:20     51.000000\n",
       "25%        1.000000     47.650000            -396 days +00:54:57    165.000000\n",
       "50%        1.000000     89.730000     -269 days +06:41:54.500000    269.000000\n",
       "75%        1.000000    154.737500     -165 days +23:52:16.750000    396.000000\n",
       "max       15.000000  13440.000000             -51 days +21:30:19    764.000000"
      ]
     },
     "execution_count": 325,
     "metadata": {},
     "output_type": "execute_result"
    }
   ],
   "source": [
    "# пускай сегодня это последний день покупки + 1 \n",
    "today = orders['order_purchase_timestamp'].max() + timedelta(days=1)\n",
    "\n",
    "# таблица с уникальным пользователем, его заказов, дата заказа, цена. Только доставленные заказы\n",
    "df_rfm = items[['order_id', 'order_item_id', 'product_id', 'price']]\\\n",
    "        .merge(orders.query(\"order_status == 'delivered'\")[['order_id', 'customer_id', 'order_purchase_timestamp']],\n",
    "               on = 'order_id', how = 'left')\\\n",
    "        .merge(customers[['customer_id', 'customer_unique_id']], on = 'customer_id', how = 'left')\n",
    "\n",
    "# уберем пропущенные значения\n",
    "df_rfm.dropna(inplace = True)\n",
    "\n",
    "# сколько прошло времени до сегодня для каждого заказа\n",
    "df_rfm['time_between'] = (df_rfm['order_purchase_timestamp'] - today)\n",
    "\n",
    "# количество заказов, общую сумму и время с последнего заказа для каждого уникального пользователя \n",
    "df_rfm_seg = df_rfm.groupby('customer_unique_id', as_index = False)\\\n",
    "            .agg({'order_id':'nunique', 'price':'sum', 'time_between': 'max'})\n",
    "\n",
    "# преобразуем delta_days для удобства\n",
    "df_rfm_seg['delta_days'] = df_rfm_seg['time_between'].dt.days * (-1)\n",
    "\n",
    "# распределение значений, чтобы примерно понять на какие сегменты делить данные\n",
    "df_rfm_seg.describe()"
   ]
  },
  {
   "cell_type": "code",
   "execution_count": 326,
   "metadata": {},
   "outputs": [
    {
     "data": {
      "image/png": "[encoded data removed]",
      "text/plain": [
       "<Figure size 1440x720 with 1 Axes>"
      ]
     },
     "metadata": {},
     "output_type": "display_data"
    }
   ],
   "source": [
    "#делим на сегменты\n",
    "df_rfm_seg['r_seg'] = pd.cut(df_rfm_seg['delta_days'],bins=[0, 60, 180, 900], labels=[1,2,3], right=False)\n",
    "df_rfm_seg['f_seg'] = pd.cut(df_rfm_seg['order_id'],bins=[0, 1, 3, 30], labels=[3,2,1], right=False)\n",
    "df_rfm_seg['m_seg'] = pd.cut(df_rfm_seg['price'],bins=[0, 100, 500, 100000], labels=[3,2,1], right=False)\n",
    "\n",
    "#добавляем общий rfm_score\n",
    "df_rfm_seg['rfm_score'] = df_rfm_seg.r_seg.astype(str) + df_rfm_seg.f_seg.astype(str) + df_rfm_seg.m_seg.astype(str)\n",
    "\n",
    "#график отражающий количество пользователей в каждом сегменте\n",
    "descending_order = df_rfm_seg['rfm_score'].value_counts().sort_values(ascending=False).index\n",
    "ax = sns.countplot(y = df_rfm_seg['rfm_score'], order=descending_order)\n",
    "\n",
    "sns.despine(fig=None, ax=None, top=True, right=True, left=False, trim=False)\n",
    "sns.set(rc={'figure.figsize':(20,10)})\n",
    "\n",
    "ax.set_ylabel('')    \n",
    "ax.set_xlabel('')\n",
    "ax.set_title('RFM-count', fontsize=16, fontweight='heavy')\n",
    "sns.set(font_scale = 1.4)\n",
    "ax.axes.get_xaxis().set_visible(False)\n",
    "ax.set_frame_on(False)\n",
    "\n",
    "y = df_rfm_seg['rfm_score'].value_counts()\n",
    "for i, v in enumerate(y):\n",
    "    ax.text(v + 0.2, i + .16, str(v), color='black', fontweight='light', fontsize=14)\n",
    "\n"
   ]
  },
  {
   "cell_type": "code",
   "execution_count": 327,
   "metadata": {},
   "outputs": [
    {
     "data": {
      "text/html": [
       "<div>\n",
       "<style scoped>\n",
       "    .dataframe tbody tr th:only-of-type {\n",
       "        vertical-align: middle;\n",
       "    }\n",
       "\n",
       "    .dataframe tbody tr th {\n",
       "        vertical-align: top;\n",
       "    }\n",
       "\n",
       "    .dataframe thead th {\n",
       "        text-align: right;\n",
       "    }\n",
       "</style>\n",
       "<table border=\"1\" class=\"dataframe\">\n",
       "  <thead>\n",
       "    <tr style=\"text-align: right;\">\n",
       "      <th></th>\n",
       "      <th>rfm_score</th>\n",
       "      <th>percentage</th>\n",
       "    </tr>\n",
       "  </thead>\n",
       "  <tbody>\n",
       "    <tr>\n",
       "      <th>323</th>\n",
       "      <td>38435</td>\n",
       "      <td>41.169</td>\n",
       "    </tr>\n",
       "    <tr>\n",
       "      <th>322</th>\n",
       "      <td>25316</td>\n",
       "      <td>27.117</td>\n",
       "    </tr>\n",
       "    <tr>\n",
       "      <th>223</th>\n",
       "      <td>14363</td>\n",
       "      <td>15.385</td>\n",
       "    </tr>\n",
       "    <tr>\n",
       "      <th>222</th>\n",
       "      <td>10455</td>\n",
       "      <td>11.199</td>\n",
       "    </tr>\n",
       "    <tr>\n",
       "      <th>321</th>\n",
       "      <td>2513</td>\n",
       "      <td>2.692</td>\n",
       "    </tr>\n",
       "    <tr>\n",
       "      <th>221</th>\n",
       "      <td>1036</td>\n",
       "      <td>1.110</td>\n",
       "    </tr>\n",
       "    <tr>\n",
       "      <th>123</th>\n",
       "      <td>649</td>\n",
       "      <td>0.695</td>\n",
       "    </tr>\n",
       "    <tr>\n",
       "      <th>122</th>\n",
       "      <td>342</td>\n",
       "      <td>0.366</td>\n",
       "    </tr>\n",
       "    <tr>\n",
       "      <th>312</th>\n",
       "      <td>97</td>\n",
       "      <td>0.104</td>\n",
       "    </tr>\n",
       "    <tr>\n",
       "      <th>212</th>\n",
       "      <td>45</td>\n",
       "      <td>0.048</td>\n",
       "    </tr>\n",
       "    <tr>\n",
       "      <th>211</th>\n",
       "      <td>31</td>\n",
       "      <td>0.033</td>\n",
       "    </tr>\n",
       "    <tr>\n",
       "      <th>311</th>\n",
       "      <td>31</td>\n",
       "      <td>0.033</td>\n",
       "    </tr>\n",
       "    <tr>\n",
       "      <th>121</th>\n",
       "      <td>21</td>\n",
       "      <td>0.022</td>\n",
       "    </tr>\n",
       "    <tr>\n",
       "      <th>313</th>\n",
       "      <td>13</td>\n",
       "      <td>0.014</td>\n",
       "    </tr>\n",
       "    <tr>\n",
       "      <th>213</th>\n",
       "      <td>4</td>\n",
       "      <td>0.004</td>\n",
       "    </tr>\n",
       "    <tr>\n",
       "      <th>112</th>\n",
       "      <td>3</td>\n",
       "      <td>0.003</td>\n",
       "    </tr>\n",
       "    <tr>\n",
       "      <th>111</th>\n",
       "      <td>2</td>\n",
       "      <td>0.002</td>\n",
       "    </tr>\n",
       "    <tr>\n",
       "      <th>113</th>\n",
       "      <td>2</td>\n",
       "      <td>0.002</td>\n",
       "    </tr>\n",
       "  </tbody>\n",
       "</table>\n",
       "</div>"
      ],
      "text/plain": [
       "     rfm_score  percentage\n",
       "323      38435      41.169\n",
       "322      25316      27.117\n",
       "223      14363      15.385\n",
       "222      10455      11.199\n",
       "321       2513       2.692\n",
       "221       1036       1.110\n",
       "123        649       0.695\n",
       "122        342       0.366\n",
       "312         97       0.104\n",
       "212         45       0.048\n",
       "211         31       0.033\n",
       "311         31       0.033\n",
       "121         21       0.022\n",
       "313         13       0.014\n",
       "213          4       0.004\n",
       "112          3       0.003\n",
       "111          2       0.002\n",
       "113          2       0.002"
      ]
     },
     "execution_count": 327,
     "metadata": {},
     "output_type": "execute_result"
    }
   ],
   "source": [
    "#таблица с процентами каждого сегмента\n",
    "rfm_count = pd.DataFrame(df_rfm_seg['rfm_score'].value_counts())\n",
    "rfm_count['percentage'] = round(df_rfm_seg['rfm_score'].value_counts(normalize = True) *100, 3)\n",
    "rfm_count"
   ]
  },
  {
   "cell_type": "markdown",
   "metadata": {},
   "source": [
    "Расшифровка сегментов\\\n",
    "По давности заказа (recency):\\\n",
    "1 — недавние клиенты, которые делали заказ в последние 60 дней.\\\n",
    "2 — относительно недавние клиенты, которые делали заказ в последние 60-180 дней;\\\n",
    "3 — давние клиенты, которые делали заказ более 180 дней назад;\\\n",
    "По частоте покупок (frequency):\\\n",
    "1 — покупает часто, более 3 заказов за все время.\\   \n",
    "2 — покупает нечасто, от 2 до 3 заказов за все время;\\\n",
    "3 — покупает очень редко (единичные заказы), не более 1 заказа за все время;\\\n",
    "По сумме покупок (monetary):\\\n",
    "1 — большая сумма, более 500 уе;\\\n",
    "2 — средняя сумма, от 100 до 500 уе;\\\n",
    "3 — маленькая сумма, до 100 уе.\n",
    "\n",
    "**Пример.** Самый большой(41%) RFM-сегмент 323 (recency=3, frequency=2, monetary=3), в этот сегмент попали пользователи, которые совершили последнюю покупку более 180 дней назад(recency), при этом всего покупок за весь период было от 1 до 3(frequency) на сумуу до 100 уе(monetary). Этот сегмент давних неактивных клиентов, которые покупали не очень много и на маленькую сумму.\\\n",
    "Самый маленький RFM-сегмент, где всего 2 клиента, 111 (recency=1, frequency=1, monetary=1), в этот сегмент попали пользователи, которые совершили последнюю покупку менее 60 дней назад, при этом всего покупок за весь период было более 3 на сумуу от 1000 уе. Это сегмент активных клиентов, которые недавно покупали много на большую сумму. Этот сегмент наиболее выгодный для компании.\n",
    "\n",
    "«111» — самые активные клиенты. Можно предложить им что-то ценное, например, золотую карту или приглашение на отраслевое мероприятие для укрепления лояльного отношения.\\\n",
    "«х1х» — покупают немного, но постоянно. Можно предложить сопутствующие товары, бонусную карту или участие в программе лояльности. Нужно попытаться увеличить средний чек.\\\n",
    "«хх1» — покупают редко, но зато на большие суммы. Таким клиентам, возможно, нужно что-то ценное или особенное. Важен индивидуальный подход, чтобы подтолкнуть крупных потребителей на более частые покупки.\\\n",
    "«13х» — новые клиенты, которые в будущем могут стать лояльными. Нужно наладить коммуникацию: поздравить с покупкой, пригласить на сайт или в социальные сети почитать интересные и полезные статьи в блоге и т.п. В целом нужно повысить лояльность.\\\n",
    "«33х» — старые клиенты, активность которых снизилась. Нужно выяснить, почему они перестали совершать покупки? Можно предложить индивидуальные условия, скидки, акции и т.п. Попытаться восстановить отношения и продолжить плодотворное сотрудничество.\\\n",
    "«333» — потерянные клиенты, которые давно не проявляли активность. Нужно попробовать наладить контакт, предложить скидки или специальные предложения. Но если нет отклика, то откажиться от дальнейшей работы. Сосредоточиться на более ценных сегментах."
   ]
  }
 ],
 "metadata": {
  "kernelspec": {
   "display_name": "Python 3 (ipykernel)",
   "language": "python",
   "name": "python3"
  },
  "language_info": {
   "codemirror_mode": {
    "name": "ipython",
    "version": 3
   },
   "file_extension": ".py",
   "mimetype": "text/x-python",
   "name": "python",
   "nbconvert_exporter": "python",
   "pygments_lexer": "ipython3",
   "version": "3.9.12"
  }
 },
 "nbformat": 4,
 "nbformat_minor": 4
}
